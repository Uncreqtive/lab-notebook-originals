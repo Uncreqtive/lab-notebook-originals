{
  "nbformat": 4,
  "nbformat_minor": 0,
  "metadata": {
    "kernelspec": {
      "display_name": "Python 3",
      "language": "python",
      "name": "python3"
    },
    "language_info": {
      "codemirror_mode": {
        "name": "ipython",
        "version": 3
      },
      "file_extension": ".py",
      "mimetype": "text/x-python",
      "name": "python",
      "nbconvert_exporter": "python",
      "pygments_lexer": "ipython3",
      "version": "3.7.3"
    },
    "colab": {
      "name": "Lab07_MakingAList.ipynb",
      "provenance": [],
      "collapsed_sections": [],
      "include_colab_link": true
    }
  },
  "cells": [
    {
      "cell_type": "markdown",
      "metadata": {
        "id": "view-in-github",
        "colab_type": "text"
      },
      "source": [
        "<a href=\"https://colab.research.google.com/github/Uncreqtive/lab-notebook-originals/blob/main/Lab07_MakingAList.ipynb\" target=\"_parent\"><img src=\"https://colab.research.google.com/assets/colab-badge.svg\" alt=\"Open In Colab\"/></a>"
      ]
    },
    {
      "cell_type": "code",
      "metadata": {
        "id": "2nDUF-ShbJ_w"
      },
      "source": [
        "def get_grocery_item(our_grocery_list):\n",
        "  item = input('please enter a grocery item')\n",
        "  our_grocery_list.append(item)\n",
        "  return our_grocery_list\n",
        "\n",
        "new_groceries = []\n",
        "\n",
        "for i in range(5):\n",
        "  new_groceries = get_grocery_item(new_groceries)\n",
        "\n",
        "new_groceries.sort()\n",
        "print (new_groceries)"
      ],
      "execution_count": null,
      "outputs": []
    },
    {
      "cell_type": "markdown",
      "metadata": {
        "id": "9aXfrLXg9seM"
      },
      "source": [
        "# Lab 07 Making a List\n",
        "In this lab you will practice working with lists.\n",
        "\n",
        "## Sorting cities\n",
        "\n",
        "In the following cell, complete the function `sorted_cities` that, given a string with the names of cities separated by commas prints a list of the cities in sorted order. This function returns `None`.\n",
        "\n"
      ]
    },
    {
      "cell_type": "code",
      "metadata": {
        "id": "Rt0kFDWS9RJU",
        "outputId": "ea082f75-975c-42b0-a6f7-78ec761f4cbf",
        "colab": {
          "base_uri": "https://localhost:8080/"
        }
      },
      "source": [
        "# sorted_cities is given a string s of city names separated by commas\n",
        "# and prints out the names in sorted order. It returns nothing\n",
        "def sorted_cities(city_names):\n",
        "  city_list = city_names.split(',')\n",
        "  city_list.sort\n",
        "  for i in city_list:\n",
        "    print(i)\n",
        "    \n",
        "    \n",
        "\n",
        "# Debugging function calls. You can add more or change\n",
        "# The following should print Boston, Chicago Indianapolis\n",
        "# and San Francisco in that order each city on a new line\n",
        "sorted_cities('Boston,Chicago,Indianapolis,San Francisco')\n",
        "\n"
      ],
      "execution_count": 3,
      "outputs": [
        {
          "output_type": "stream",
          "name": "stdout",
          "text": [
            "Boston\n",
            "Chicago\n",
            "Indianapolis\n",
            "San Francisco\n"
          ]
        }
      ]
    },
    {
      "cell_type": "markdown",
      "metadata": {
        "id": "y2c-tRWA91fr"
      },
      "source": [
        "## Same but Different Order?\n",
        "In the following cell complete the function `is_permutation` that given two lists of integers returns `True` if and only if both lists contain the same integers but in possibly different orders. (*Challenge: Does it matter if the code you write is passed lists that are not integers?*)"
      ]
    },
    {
      "cell_type": "code",
      "metadata": {
        "id": "NMcvm3E4-sl_",
        "colab": {
          "base_uri": "https://localhost:8080/"
        },
        "outputId": "de69a20f-7dff-4979-dd1f-401723952ed0"
      },
      "source": [
        "# is_permutation is given two lists and returns True\n",
        "# if lists contain the same elements possibly in different orders\n",
        "# and False otherwise\n",
        "def is_permutation(list1, list2):\n",
        "      if len(list1) != len(list2):\n",
        "        return False\n",
        "      copy1 = list1[:]\n",
        "      copy2 = list2[:]\n",
        "      copy1.sort()\n",
        "      copy2.sort()\n",
        "      return copy1 == copy2\n",
        "\n",
        "\n",
        "# Here are some debugging calls with correct return values\n",
        "print(is_permutation([1, 2, 3], [3, 1, 2])) # Should return True\n",
        "print(is_permutation([1, 1, 1, 2],[1, 2, 1, 1])) # Should return True\n",
        "print(is_permutation([1, 2, 3, 1], [1, 2, 3])) # Should return False\n",
        "print(is_permutation([1, 1, 2, 3], [1, 3, 2, 2])) #Should return False"
      ],
      "execution_count": 6,
      "outputs": [
        {
          "output_type": "stream",
          "name": "stdout",
          "text": [
            "True\n",
            "True\n",
            "False\n",
            "False\n"
          ]
        }
      ]
    },
    {
      "cell_type": "markdown",
      "metadata": {
        "id": "zXC7orYI_T3E"
      },
      "source": [
        "## Challenge: Tic Tac Toe\n",
        "In the following cell you will work towards implementing a tic tac toe game that uses lists of lists. You will create boards and check if player X or player O has won. *This section is optional and for further practice.*\n"
      ]
    },
    {
      "cell_type": "code",
      "metadata": {
        "id": "fpq9XjRC_TJG",
        "colab": {
          "base_uri": "https://localhost:8080/",
          "height": 240
        },
        "outputId": "d3ae6c64-c0f9-493e-c6e1-bc756dd4e0c7"
      },
      "source": [
        "# Define variables for the characters on the board\n",
        "x = 'X'\n",
        "o = 'O'\n",
        "empty = '_'\n",
        "\n",
        "# This is an example of how to create a list of only empty spaces\n",
        "empty_row = [empty, empty, empty]\n",
        "\n",
        "# Complete the board so that it has three empty rows\n",
        "# We have started off with a single empty row\n",
        "board0 = [[empty, empty, empty]]\n",
        "\n",
        "# Complete code that will create the following board\n",
        "# We have provided code for the first of the three rows\n",
        "# X _ O, _ X O, X _ _\n",
        "# Write code to create the following board\n",
        "# X _ O, _ X O, O _ X\n",
        "board1 = [[x, empty, o][empty, x, o][o, empty, empty]]\n",
        "board2 = [[x, empty, o][empty, x, o][o, empty, x]]\n",
        "\n",
        "def has_won(board, player):\n",
        "  has_won(board0,x) \n",
        "  has_won(board1,o) \n",
        "  has_won(board2,x) \n",
        "  pass\n",
        "\n",
        "\n",
        "# Complete the function has_won that given a board\n",
        "# will return True if and only if the Player X or O passed\n",
        "# to it has won that board by filling a row, column, or\n",
        "# diagonal. You may assume all boards are 3 by 3\n",
        "# and all rows have same length\n",
        "\n",
        "  \n",
        "\n",
        "# Here is some testing code. You can create new boards\n",
        "# to test for row and column wins\n",
        "has_won(board0, x) # should be False\n",
        "has_won(board1, o) # should be False\n",
        "has_won(board2, x) # should be True\n",
        "      \n",
        "# For even more challenge if you are interested,\n",
        "# can you use your board and has_won function\n",
        "# to complete an implementation for a tic tac toe game?\n",
        "# Start from an empty board and prompt players for moves\n",
        "# until a player has won or the board is full"
      ],
      "execution_count": null,
      "outputs": [
        {
          "output_type": "error",
          "ename": "TypeError",
          "evalue": "ignored",
          "traceback": [
            "\u001b[0;31m---------------------------------------------------------------------------\u001b[0m",
            "\u001b[0;31mTypeError\u001b[0m                                 Traceback (most recent call last)",
            "\u001b[0;32m<ipython-input-12-8f359d680e83>\u001b[0m in \u001b[0;36m<module>\u001b[0;34m()\u001b[0m\n\u001b[1;32m     16\u001b[0m \u001b[0;31m# Write code to create the following board\u001b[0m\u001b[0;34m\u001b[0m\u001b[0;34m\u001b[0m\u001b[0;34m\u001b[0m\u001b[0m\n\u001b[1;32m     17\u001b[0m \u001b[0;31m# X _ O, _ X O, O _ X\u001b[0m\u001b[0;34m\u001b[0m\u001b[0;34m\u001b[0m\u001b[0;34m\u001b[0m\u001b[0m\n\u001b[0;32m---> 18\u001b[0;31m \u001b[0mboard1\u001b[0m \u001b[0;34m=\u001b[0m \u001b[0;34m[\u001b[0m\u001b[0;34m[\u001b[0m\u001b[0mx\u001b[0m\u001b[0;34m,\u001b[0m \u001b[0mempty\u001b[0m\u001b[0;34m,\u001b[0m \u001b[0mo\u001b[0m\u001b[0;34m]\u001b[0m\u001b[0;34m[\u001b[0m\u001b[0mempty\u001b[0m\u001b[0;34m,\u001b[0m \u001b[0mx\u001b[0m\u001b[0;34m,\u001b[0m \u001b[0mo\u001b[0m\u001b[0;34m]\u001b[0m\u001b[0;34m[\u001b[0m\u001b[0mo\u001b[0m\u001b[0;34m,\u001b[0m \u001b[0mempty\u001b[0m\u001b[0;34m,\u001b[0m \u001b[0mempty\u001b[0m\u001b[0;34m]\u001b[0m\u001b[0;34m]\u001b[0m\u001b[0;34m\u001b[0m\u001b[0;34m\u001b[0m\u001b[0m\n\u001b[0m\u001b[1;32m     19\u001b[0m \u001b[0mboard2\u001b[0m \u001b[0;34m=\u001b[0m \u001b[0;34m[\u001b[0m\u001b[0;34m[\u001b[0m\u001b[0mx\u001b[0m\u001b[0;34m,\u001b[0m \u001b[0mempty\u001b[0m\u001b[0;34m,\u001b[0m \u001b[0mo\u001b[0m\u001b[0;34m]\u001b[0m\u001b[0;34m[\u001b[0m\u001b[0mempty\u001b[0m\u001b[0;34m,\u001b[0m \u001b[0mx\u001b[0m\u001b[0;34m,\u001b[0m \u001b[0mo\u001b[0m\u001b[0;34m]\u001b[0m\u001b[0;34m[\u001b[0m\u001b[0mo\u001b[0m\u001b[0;34m,\u001b[0m \u001b[0mempty\u001b[0m\u001b[0;34m,\u001b[0m \u001b[0mx\u001b[0m\u001b[0;34m]\u001b[0m\u001b[0;34m]\u001b[0m\u001b[0;34m\u001b[0m\u001b[0;34m\u001b[0m\u001b[0m\n\u001b[1;32m     20\u001b[0m \u001b[0;34m\u001b[0m\u001b[0m\n",
            "\u001b[0;31mTypeError\u001b[0m: list indices must be integers or slices, not tuple"
          ]
        }
      ]
    },
    {
      "cell_type": "markdown",
      "metadata": {
        "id": "dKL0LYd-E4JB"
      },
      "source": [
        "### Reflections\n",
        "Add a text cell below to answer the following questions:\n",
        "1. What do you feel more confident about after completing this lab?\n",
        "I understand the first portion\n",
        "2. What do you feel you can use more help with after completing this lab? The tic-tac-toe was a little confusing.\n",
        "3. Do you have any constructive suggestions on how we can help you or improve this lab?\n",
        "would like to go over the listing a bit more"
      ]
    },
    {
      "cell_type": "markdown",
      "metadata": {
        "id": "gB1aHDpyFYey"
      },
      "source": [
        "### Save your work to GitHub\n",
        "Please save this notebook to your lab repository."
      ]
    },
    {
      "cell_type": "markdown",
      "metadata": {
        "id": "ke4X5r9l3xgv"
      },
      "source": [
        "### Citation\n",
        "These exercises were adapted from pages 256 and 260 in the following book:\n",
        "Ana Bell. 2018. Get Programming: Learn to code with Python. Manning, Shelter Island, NY. "
      ]
    }
  ]
}