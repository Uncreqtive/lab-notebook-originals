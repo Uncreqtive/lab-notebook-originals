{
  "cells": [
    {
      "cell_type": "markdown",
      "metadata": {
        "id": "view-in-github",
        "colab_type": "text"
      },
      "source": [
        "<a href=\"https://colab.research.google.com/github/Uncreqtive/lab-notebook-originals/blob/main/Lab10_Spring.ipynb\" target=\"_parent\"><img src=\"https://colab.research.google.com/assets/colab-badge.svg\" alt=\"Open In Colab\"/></a>"
      ]
    },
    {
      "cell_type": "markdown",
      "metadata": {
        "id": "WIFu_BIiWkKj"
      },
      "source": [
        "<a href=\"https://colab.research.google.com/github/LMU-CMSI-1010/lab-notebooks-original/blob/main/Lab10.ipynb\" target=\"_parent\"><img src=\"https://colab.research.google.com/assets/colab-badge.svg\" alt=\"Open In Colab\"/></a>"
      ]
    },
    {
      "cell_type": "markdown",
      "metadata": {
        "id": "9aXfrLXg9seM"
      },
      "source": [
        "# Lab 10 Introduction to Recursion\n",
        "This lab inroduces you to recursion by coding functions to test if a string is a **palindrome** or not and tracing the behavior. We will discuss recursion more formally later this week, but this is a way to motivate what is happening with a concrete example.\n",
        "\n",
        "*Remember:* A **palindrome** is a string that is the same forwards or backwards. For example, *noon, level, the empty string, and any single character* are all palindromes.\n",
        "\n"
      ]
    },
    {
      "cell_type": "markdown",
      "metadata": {
        "id": "NeQK-bkp3AKI"
      },
      "source": [
        "## Quick recap: One-line function\n",
        "\n",
        "Recall that several lectures ago we were able to code a one-line function to check if a string was a palindrome using slicing.\n",
        "\n",
        "This function is in the following cell.\n"
      ]
    },
    {
      "cell_type": "code",
      "execution_count": null,
      "metadata": {
        "id": "9sggpWEB33fV",
        "outputId": "9520b85c-59a4-4a4b-f380-936b4f9ced3f",
        "colab": {
          "base_uri": "https://localhost:8080/"
        }
      },
      "outputs": [
        {
          "output_type": "stream",
          "name": "stdout",
          "text": [
            "True\n",
            "True\n",
            "False\n",
            "True\n",
            "True\n",
            "False\n"
          ]
        }
      ],
      "source": [
        "# quick_palidrome: Given a string, quick_palindrome\n",
        "# returns True if the string is a palindrome and False otherwise\n",
        "def quick_palindrome(test):\n",
        "    # Remember test[::-1] returns a string that is a copy of test reversed\n",
        "    return (test == test[::-1])\n",
        "\n",
        "\n",
        "print(quick_palindrome('')) # Should return True\n",
        "print(quick_palindrome('a')) # Should return True\n",
        "print(quick_palindrome('bubble')) # Should return False\n",
        "print(quick_palindrome('noon')) # Should return True\n",
        "print(quick_palindrome('tenet')) # Should return True\n",
        "print(quick_palindrome('treat')) # Should return False"
      ]
    },
    {
      "cell_type": "markdown",
      "metadata": {
        "id": "3NnTCLBI5nsb"
      },
      "source": [
        "### Your turn with iteration\n",
        "\n",
        "In the following cell, **complete the function `iterative_palindrome`.** You should use a `for` or `while` loop to complete this implementation.\n",
        "**Have your function print out what it is comparing on each iteration**, so that you can check its behavior. **Trace the behavior of your function on the strings, noon, tenet, and treat.** Can you trace with what you are printing and using a stack diagram?"
      ]
    },
    {
      "cell_type": "code",
      "execution_count": 3,
      "metadata": {
        "id": "B0q5svPu53OF"
      },
      "outputs": [],
      "source": [
        "# TODO: iterative_palidrome: Given a string, iterative_palindrome\n",
        "# returns True if the string is a palindrome and False otherwise\n",
        "def iterative_palindrome(test):\n",
        "    # If the string is a single character or the empty string,\n",
        "    # remember it is a palindrome\n",
        "    length = len(test)\n",
        "    if length <= 1:\n",
        "        return True\n",
        "    \n",
        "    # TODO: Create a loop to complete this function\n",
        "    i=0\n",
        "    while i<length//2:\n",
        "      if test[i] != test[i*-1+-1]:\n",
        "        return False\n",
        "      i += 1\n",
        "    return True\n",
        "    \n",
        "    \n",
        "\n",
        "\n",
        "assert(iterative_palindrome('') == True)\n",
        "assert(iterative_palindrome('a') == True)\n",
        "assert(iterative_palindrome('bubble') == False)\n",
        "assert(iterative_palindrome('noon') == True)\n",
        "assert(iterative_palindrome('tenet') == True)\n",
        "assert(iterative_palindrome('treat') == False)\n",
        "    "
      ]
    },
    {
      "cell_type": "markdown",
      "metadata": {
        "id": "PLuBEYNK0Q6M"
      },
      "source": [
        "### Review: Functions Calling Functions\n",
        "Recall that when functions call other functions, they can be thought of as “stacking” up because when the called function returns, it goes back to the function that called it. To refresh your memory, here is a program with a few functions that call each other. Make sure you understand how program execution proceeds here:"
      ]
    },
    {
      "cell_type": "code",
      "execution_count": 4,
      "metadata": {
        "id": "RSx_xL0y0q2B",
        "colab": {
          "base_uri": "https://localhost:8080/"
        },
        "outputId": "5e8d9c63-4913-45e5-8d8b-dc130e4686da"
      },
      "outputs": [
        {
          "output_type": "stream",
          "name": "stdout",
          "text": [
            "Say yes or no, your way: no\n",
            "False\n"
          ]
        }
      ],
      "source": [
        "def standardize_response(response):\n",
        "    return response.strip().lower()\n",
        "\n",
        "\n",
        "def flexible_yes_or_no(response):\n",
        "    \"\"\"Recognizes many variations of yes or no.\n",
        "       Will return True if it recognized a yes and False if it recognized a no.\n",
        "       It will return None of neither one is recognized.\"\"\"\n",
        "    yes = ['yes', 'y', 'yup', 'yeah', 'yea', 'uh huh', 'uh-huh', 'sure', 'ok']\n",
        "    no = ['no', 'n', 'nope', 'nah', 'noo', 'nooo', 'uh uh', 'uh-uh']\n",
        "\n",
        "    standardized_response = standardize_response(response)\n",
        "    if standardized_response in yes:\n",
        "        return True\n",
        "    elif standardized_response in no:\n",
        "        return False\n",
        "    else:\n",
        "        return None\n",
        "\n",
        "\n",
        "yes_or_no = input('Say yes or no, your way: ')\n",
        "print(flexible_yes_or_no(yes_or_no))"
      ]
    },
    {
      "cell_type": "markdown",
      "metadata": {
        "id": "RrnFW15w3r6G"
      },
      "source": [
        "See the [stack in action via PythonTutor](https://pythontutor.com/visualize.html#code=def%20standardize_response%28response%29%3A%0A%20%20%20%20return%20response.strip%28%29.lower%28%29%0A%0A%0Adef%20flexible_yes_or_no%28response%29%3A%0A%20%20%20%20%22%22%22Recognizes%20many%20variations%20of%20yes%20or%20no.%0A%20%20%20%20%20%20%20Will%20return%20True%20if%20it%20recognized%20a%20yes%20and%20False%20if%20it%20recognized%20a%20no.%0A%20%20%20%20%20%20%20It%20will%20return%20None%20of%20neither%20one%20is%20recognized.%22%22%22%0A%20%20%20%20yes%20%3D%20%5B'yes',%20'y',%20'yup',%20'yeah',%20'yea',%20'uh%20huh',%20'uh-huh',%20'sure',%20'ok'%5D%0A%20%20%20%20no%20%3D%20%5B'no',%20'n',%20'nope',%20'nah',%20'noo',%20'nooo',%20'uh%20uh',%20'uh-uh'%5D%0A%0A%20%20%20%20standardized_response%20%3D%20standardize_response%28response%29%0A%20%20%20%20if%20standardized_response%20in%20yes%3A%0A%20%20%20%20%20%20%20%20return%20True%0A%20%20%20%20elif%20standardized_response%20in%20no%3A%0A%20%20%20%20%20%20%20%20return%20False%0A%20%20%20%20else%3A%0A%20%20%20%20%20%20%20%20return%20None%0A%0A%0Ayes_or_no%20%3D%20input%28'Say%20yes%20or%20no,%20your%20way%3A%20'%29%0Aprint%28flexible_yes_or_no%28yes_or_no%29%29&cumulative=false&heapPrimitives=nevernest&mode=edit&origin=opt-frontend.js&py=3&rawInputLstJSON=%5B%5D&textReferences=false)."
      ]
    },
    {
      "cell_type": "markdown",
      "metadata": {
        "id": "VwQPNN6e6QI_"
      },
      "source": [
        "### Recursive Palindrome Function Tracing\n",
        "\n",
        "A **recursive function** is a function that calls itself. Below, we have given you a recursive implementation of the `palindrome` function. Notice that we have a base case: when we are given an empty string or a single character, the function can return immediately without calling itself. Notice also the recursive case: this is when the function calls itself on a smaller string. Can you figure out what the smaller string should be? **Trace the behavior of your function on the strings \"noon\", \"tenet\", and \"treat\".** Can you trace these functions with what is being printed and using stack diagrams? *Remember that the stack diagrams will create a new box for each function call.*"
      ]
    },
    {
      "cell_type": "code",
      "execution_count": 5,
      "metadata": {
        "id": "rz-jwUKp6cUJ",
        "colab": {
          "base_uri": "https://localhost:8080/"
        },
        "outputId": "542aa2ce-d857-4651-ee33-3caa6e1d53d3"
      },
      "outputs": [
        {
          "output_type": "stream",
          "name": "stdout",
          "text": [
            "Current input: \n",
            "Base case: length 0 or 1\n",
            "True\n",
            "\n",
            "Current input: a\n",
            "Base case: length 0 or 1\n",
            "True\n",
            "\n",
            "Current input: bubble\n",
            "Not palindrome: first and last chars differ\n",
            "False\n",
            "\n",
            "Current input: noon\n",
            "ok so far\n",
            "Current input: oo\n",
            "ok so far\n",
            "Current input: \n",
            "Base case: length 0 or 1\n",
            "True\n",
            "\n",
            "Current input: tenet\n",
            "ok so far\n",
            "Current input: ene\n",
            "ok so far\n",
            "Current input: n\n",
            "Base case: length 0 or 1\n",
            "True\n",
            "\n",
            "Current input: treat\n",
            "ok so far\n",
            "Current input: rea\n",
            "Not palindrome: first and last chars differ\n",
            "False\n",
            "\n"
          ]
        }
      ],
      "source": [
        "# palidrome: Given a string, palindrome returns True\n",
        "# if the string is a palindrome and False otherwise\n",
        "# This is a recursive implementation because palindrome calls\n",
        "# itself.\n",
        "def palindrome(test):\n",
        "    print('Current input:', test)\n",
        "  \n",
        "    # Base case for empty string or single character\n",
        "    if len(test) <= 1:\n",
        "        print('Base case: length 0 or 1')\n",
        "        return True\n",
        "\n",
        "    # Base case for when the first and last character are\n",
        "    # different so we know it cannot be a palindrome\n",
        "    elif test[0] != test[-1]:\n",
        "        print('Not palindrome: first and last chars differ')\n",
        "        return False\n",
        "  \n",
        "    # Recursive case: we know valid palindrome so far so \n",
        "    # we need to look at the rest of the substring without\n",
        "    # the first and last character\n",
        "    print('ok so far')\n",
        "  \n",
        "    # This recursive call passes a substring of test from the\n",
        "    # second character at index 1 to right before the last character\n",
        "    # at index -1\n",
        "    return palindrome(test[1:-1])\n",
        "\n",
        "print(palindrome('')) # Should return True\n",
        "print()\n",
        "print(palindrome('a')) # Should return True\n",
        "print()\n",
        "print(palindrome('bubble')) # Should return False\n",
        "print()\n",
        "print(palindrome('noon')) # Should return True\n",
        "print()\n",
        "print(palindrome('tenet')) # Should return True\n",
        "print()\n",
        "print(palindrome('treat')) # Should return False\n",
        "print()"
      ]
    },
    {
      "cell_type": "markdown",
      "metadata": {
        "id": "0PA2HcBPQDrf"
      },
      "source": [
        "**Do this:** Visualize the sequence of function calls made by `palindrome('engage')` either by hand or through PythonTutor. Upload the resulting stack diagram image to your notebook by uploading your image to your google drive, and make sure it's a public folder and get the shareable link by right-clicking on the picture and choose 'Get a sharable link'. You just need the id of the image so copy that (the id is between /d/ and /view). **There is a text cell below but it is invisible, you have to click below to make it show. Now paste the ID in the link below where it says \"PASTE ID HERE.\"**"
      ]
    },
    {
      "cell_type": "markdown",
      "metadata": {
        "id": "IWsmi94NWkKt"
      },
      "source": [
        "***\n",
        "![](https://drive.google.com/uc?export=view&id=PASTE_ID_HERE)\n",
        "***"
      ]
    },
    {
      "cell_type": "markdown",
      "metadata": {
        "id": "z5dJSnu-WkKt"
      },
      "source": [
        "**And Do this:**  Also supply a plain language explanation of what is happening in the text box below:"
      ]
    },
    {
      "cell_type": "markdown",
      "source": [
        "![Screen Shot 2023-03-14 at 4.52.34 AM.png](data:image/png;base64,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)"
      ],
      "metadata": {
        "id": "xN6fd81R8qK9"
      }
    },
    {
      "cell_type": "markdown",
      "metadata": {
        "id": "lPupPwlKQdbv"
      },
      "source": [
        "***\n",
        "\n",
        "> What is happening in this is that it's taking the works like engage, and then testing if the first letter and the last letter are the same. Since they are it takes out the first ones and then re-tests if the new first and last letters are the same, and continues the process until it is either all true, making it a palindrone, or if it comes back false like engage.\n",
        "\n",
        "***"
      ]
    },
    {
      "cell_type": "markdown",
      "metadata": {
        "id": "dKL0LYd-E4JB"
      },
      "source": [
        "### (Optional) Reflections\n",
        "Add a text cell below to answer the following questions:\n",
        "1. What do you feel more confident about after completing this lab?\n",
        "2. What do you feel you can use more help with after completing this lab?\n",
        "3. Do you have any constructive suggestions on how we can help you or improve this lab?"
      ]
    },
    {
      "cell_type": "markdown",
      "metadata": {
        "id": "gB1aHDpyFYey"
      },
      "source": [
        "### Save your work to GitHub\n",
        "Please save this notebook to your lab repository."
      ]
    }
  ],
  "metadata": {
    "kernelspec": {
      "display_name": "Python 3",
      "language": "python",
      "name": "python3"
    },
    "language_info": {
      "codemirror_mode": {
        "name": "ipython",
        "version": 3
      },
      "file_extension": ".py",
      "mimetype": "text/x-python",
      "name": "python",
      "nbconvert_exporter": "python",
      "pygments_lexer": "ipython3",
      "version": "3.8.5"
    },
    "colab": {
      "provenance": [],
      "include_colab_link": true
    }
  },
  "nbformat": 4,
  "nbformat_minor": 0
}