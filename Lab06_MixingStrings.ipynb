{
  "nbformat": 4,
  "nbformat_minor": 0,
  "metadata": {
    "kernelspec": {
      "display_name": "Python 3",
      "language": "python",
      "name": "python3"
    },
    "language_info": {
      "codemirror_mode": {
        "name": "ipython",
        "version": 3
      },
      "file_extension": ".py",
      "mimetype": "text/x-python",
      "name": "python",
      "nbconvert_exporter": "python",
      "pygments_lexer": "ipython3",
      "version": "3.7.3"
    },
    "colab": {
      "name": "Lab06_MixingStrings.ipynb",
      "provenance": [],
      "collapsed_sections": [],
      "include_colab_link": true
    }
  },
  "cells": [
    {
      "cell_type": "markdown",
      "metadata": {
        "id": "view-in-github",
        "colab_type": "text"
      },
      "source": [
        "<a href=\"https://colab.research.google.com/github/Uncreqtive/lab-notebook-originals/blob/main/Lab06_MixingStrings.ipynb\" target=\"_parent\"><img src=\"https://colab.research.google.com/assets/colab-badge.svg\" alt=\"Open In Colab\"/></a>"
      ]
    },
    {
      "cell_type": "code",
      "metadata": {
        "id": "yt1PE2d-3iFZ"
      },
      "source": [
        "#strings can't be changed,\n",
        "#my_str ='carrot'\n",
        "#my_sty[0] = 'p'\n",
        "#this won't work.\n",
        "\n",
        "#str1 = one\n",
        "#for letter in str1:\n",
        "#print (letter)\n",
        "\n",
        "# Code along: write a function that takes a string sa a parameter and loops through the characters in that stringm returning True if it contains the character 'e' and False if not\n",
        "def has_e (str) :\n",
        "  s = str.lower()\n",
        "  for c in s:\n",
        "    if c == 'e':\n",
        "      return True\n",
        "    return False\n",
        "\n",
        "  print(has_e('Elizabeth'))\n",
        "  print(has_e('bicycle'))\n",
        "  print(has_e('carrot'))"
      ],
      "execution_count": null,
      "outputs": []
    },
    {
      "cell_type": "markdown",
      "metadata": {
        "id": "9aXfrLXg9seM"
      },
      "source": [
        "# Lab 06 Mixing Strings\n",
        "In this lab you will practice working with strings and using loops with strings.\n",
        "\n",
        "## Warmup: Character counter\n",
        "\n",
        "In the following cell, complete the function `count_character` that, given a string and character, returns the number of occurrences of the character in the string. Right now, it just returns 0. We have some code to test your function and you can add more calls to test it.\n",
        "\n"
      ]
    },
    {
      "cell_type": "code",
      "metadata": {
        "id": "Rt0kFDWS9RJU",
        "colab": {
          "base_uri": "https://localhost:8080/",
          "height": 126
        },
        "outputId": "79ea9f84-3f41-42b1-fbce-6cfe5d462b35"
      },
      "source": [
        "# count_character is given a string s and a character c and returns the number\n",
        "# of occurrences of c in s\n",
        "def count_character(s, c):\n",
        "  char_count = 0\n",
        "    for x in s:\n",
        "      if x == c:\n",
        "        counter += 1\n",
        "  return counter\n",
        "\n",
        "# Debugging function calls. You can add more or change\n",
        "# The following should return 3\n",
        "char_count = count_character('banana', 'a')\n",
        "print(char_count)\n",
        "\n",
        "# The following call should return 4\n",
        "char_count = count_character('mississippi', 's')\n",
        "print(char_count) "
      ],
      "execution_count": 14,
      "outputs": [
        {
          "output_type": "error",
          "ename": "IndentationError",
          "evalue": "ignored",
          "traceback": [
            "\u001b[0;36m  File \u001b[0;32m\"<ipython-input-14-035d0217d6c3>\"\u001b[0;36m, line \u001b[0;32m5\u001b[0m\n\u001b[0;31m    for x in s:\u001b[0m\n\u001b[0m    ^\u001b[0m\n\u001b[0;31mIndentationError\u001b[0m\u001b[0;31m:\u001b[0m unexpected indent\n"
          ]
        }
      ]
    },
    {
      "cell_type": "markdown",
      "metadata": {
        "id": "y2c-tRWA91fr"
      },
      "source": [
        "## Repeating Strings\n",
        "Python gives you an operator to make multiple copies of a string. However, below we want you to complete this function to return a string `s` repeated `n` times _using a loop_ instead. You can test your code by running the code we have provided and creating your own function calls."
      ]
    },
    {
      "cell_type": "code",
      "metadata": {
        "id": "NMcvm3E4-sl_",
        "colab": {
          "base_uri": "https://localhost:8080/",
          "height": 126
        },
        "outputId": "cd183790-af22-476e-fc98-38ba34324a14"
      },
      "source": [
        "# repeat_string is given the string s and returns a string that is n copies\n",
        "# of it.\n",
        "def repeat_string(s, n):\n",
        "    out = ''\n",
        "    for i in range(n):\n",
        "    out = s + out\n",
        "    return out\n",
        "\n",
        "print(repeat_string('hello', 3))\n"
      ],
      "execution_count": null,
      "outputs": [
        {
          "output_type": "error",
          "ename": "IndentationError",
          "evalue": "ignored",
          "traceback": [
            "\u001b[0;36m  File \u001b[0;32m\"<ipython-input-7-a87fca245729>\"\u001b[0;36m, line \u001b[0;32m6\u001b[0m\n\u001b[0;31m    out = s + out\u001b[0m\n\u001b[0m      ^\u001b[0m\n\u001b[0;31mIndentationError\u001b[0m\u001b[0;31m:\u001b[0m expected an indented block\n"
          ]
        }
      ]
    },
    {
      "cell_type": "markdown",
      "metadata": {
        "id": "zXC7orYI_T3E"
      },
      "source": [
        "## Mixing names\n",
        "In the following cell you will write a program that will prompt a user for two names. The user should enter a first name and last name separated by a space.\n",
        "You will have to figure out how to parse the first name and last name from the name input by the user. Then you will mix the two names up and output the new mixed names."
      ]
    },
    {
      "cell_type": "code",
      "metadata": {
        "id": "fpq9XjRC_TJG"
      },
      "source": [
        "name1 = input('Please enter a FIRST NAME followed by a LAST NAME separated by a space:')\n",
        "name2 = input('Please enter another FIRST NAME followed by a LAST NAME separated by a space:')\n",
        "\n",
        "# Now parse the user input to find the first names and last names\n",
        "# Right now you have strings containing both, so find the space first\n",
        "# and save the first name substrings and the last name substrings in separate variables\n",
        "# If you prefer, you can also use split() to separate the first and last names\n",
        "a = name1.split()\n",
        "b = name2.split()\n",
        "\n",
        "print(a)\n",
        "print(b)\n",
        "\n",
        "# In order to mix up the strings you need to find the midpoint of each name\n",
        "# Challenge: How could you split strings at random points instead?\n",
        "\n",
        "int half1_a = (a[0].len())/2\n",
        "int half2_a = (a[1].len())/2\n",
        "\n",
        "int half1_b = (b[0].len())/2\n",
        "int half2_b = (b[1].len())/2\n",
        "\n",
        "new_first_name1 = ''\n",
        "for letter_position in range(0, half1_a):\n",
        "  new_first_name1 = new_first_name1 + (a[0])[letter]\n",
        "\n",
        "for letter_position in range(0, half1_b):\n",
        "  new_first_name1 = new_first_name1 + (b[0])[letter]\n",
        "\n",
        "print(new_first_name1)\n",
        "\n",
        "new_first_name2: ''\n",
        "for letter_position in range(half1_a, a[0].len()):\n",
        "  new_first_name2 = new_first_name2 + (a[0])[letter]\n",
        "\n",
        "for letter_position in range(half1_b, b[0].len()):\n",
        "  new_first_name2 = new_first_name2 + (b[0])[letter]\n",
        "\n",
        "print(new_first_name2)\n",
        "      \n",
        "\n",
        "\n",
        "new_last_name1: ''\n",
        "for letter_position in range(half2_a, a[1].len()):\n",
        "  new_last_name1 = new_last_name1 + (a[1])[letter]\n",
        "\n",
        "for letter_position in range(half2_b, b[1].len()):\n",
        "  new_last_name1 = new_last_name1 + (b[1])[letter]\n",
        "\n",
        "print(new_last_name1)\n",
        "\n",
        "new_last_name2: ''\n",
        "for letter_position in range(half2_a, a[1].len()):\n",
        "  new_first_name2 = new_first_name2 + (a[1])[letter]\n",
        "\n",
        "for letter_position in range(half2_b, b[1].len()):\n",
        "  new_last_name2 = new_last_name2 + (b[1])[letter]\n",
        "\n",
        "print(new_first_name2)\n",
        "\n",
        "print('Here are the new mixed up names:')\n",
        "print(new_first_name1, new_last_name1)\n",
        "print(new_first_name2, new_last_name2)\n",
        "\n",
        "# Get the substrings for the first halves and second halves of each name\n",
        "# You want to combine the names to create 2 new first and last names\n",
        "# Make sure the capitalization is correct\n",
        "# Use capitalize() to capitalize and lower() to make all lowercase\n",
        "# Combine the first half of the first first name and the second half of the second\n",
        "# first name to create a new first name\n",
        "# Combine the first half of the first last name and the second half of the second\n",
        "# last name to create a new last name\n",
        "# Combine the first half of the second first name and the second half of the first\n",
        "# first name to create a new first name\n",
        "# Combine the first half of the second last name and the second half of the first\n",
        "# last name to create a new last name\n",
        "# print out both new names\n",
        "# you do not need to change the following code.\n"
      ],
      "execution_count": null,
      "outputs": []
    },
    {
      "cell_type": "markdown",
      "metadata": {
        "id": "dKL0LYd-E4JB"
      },
      "source": [
        "### Reflections\n",
        "Add a text cell below to answer the following questions:\n",
        "1. What do you feel more confident about after completing this lab?\n",
        "undersanding conceptually the splitting.\n",
        "2. What do you feel you can use more help with after completing this lab? the acutal code of splitting confused me. (and the wording of the instructions)\n",
        "3. Do you have any constructive suggestions on how we can help you or improve this lab?\n",
        "working more for us to understand the string name splits"
      ]
    },
    {
      "cell_type": "markdown",
      "metadata": {
        "id": "gB1aHDpyFYey"
      },
      "source": [
        "### Save your work to GitHub\n",
        "Please save this notebook to your lab repository."
      ]
    }
  ]
}