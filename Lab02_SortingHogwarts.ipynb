{
  "nbformat": 4,
  "nbformat_minor": 0,
  "metadata": {
    "kernelspec": {
      "display_name": "Python 3",
      "language": "python",
      "name": "python3"
    },
    "language_info": {
      "codemirror_mode": {
        "name": "ipython",
        "version": 3
      },
      "file_extension": ".py",
      "mimetype": "text/x-python",
      "name": "python",
      "nbconvert_exporter": "python",
      "pygments_lexer": "ipython3",
      "version": "3.7.3"
    },
    "colab": {
      "name": "Lab02_SortingHogwarts.ipynb",
      "provenance": [],
      "collapsed_sections": [],
      "include_colab_link": true
    }
  },
  "cells": [
    {
      "cell_type": "markdown",
      "metadata": {
        "id": "view-in-github",
        "colab_type": "text"
      },
      "source": [
        "<a href=\"https://colab.research.google.com/github/Uncreqtive/lab-notebook-originals/blob/main/Lab02_SortingHogwarts.ipynb\" target=\"_parent\"><img src=\"https://colab.research.google.com/assets/colab-badge.svg\" alt=\"Open In Colab\"/></a>"
      ]
    },
    {
      "cell_type": "markdown",
      "metadata": {
        "id": "9aXfrLXg9seM"
      },
      "source": [
        "# Lab 02 Sorting Hogwarts\n",
        "In this lab you will practice using conditional statements in order to sort your user into a Hogwarts house.\n",
        "\n",
        "## Asking for user preferences\n",
        "We will ask users a series of questions. This code will be provided to you. You will need to save responses from users and keep track of the preferences in terms of counts for each house.\n",
        "\n"
      ]
    },
    {
      "cell_type": "markdown",
      "metadata": {
        "id": "oH_PT-1bu19E"
      },
      "source": [
        "## Counts for each House\n",
        "We will use the following integer variables to keep track of whether the response given by users should place them in the house. There is a variable for each house and we will guide you when to increment each. Remember that *increment* means to add 1 to its value."
      ]
    },
    {
      "cell_type": "code",
      "metadata": {
        "colab": {
          "base_uri": "https://localhost:8080/"
        },
        "id": "eN0eMHAd58ld",
        "outputId": "458a09d5-19d3-484e-a813-9e08a9c07af0"
      },
      "source": [
        "a = True\n",
        "b = True\n",
        "c = True\n",
        "\n",
        "\n",
        "if a:\n",
        "       print('case 1')\n",
        "elif b:\n",
        "       print('case 2')\n",
        "elif c:\n",
        "       print('case 3')\n",
        "\n"
      ],
      "execution_count": null,
      "outputs": [
        {
          "output_type": "stream",
          "name": "stdout",
          "text": [
            "case 1\n"
          ]
        }
      ]
    },
    {
      "cell_type": "code",
      "metadata": {
        "id": "h_GIKvVMD8s6",
        "colab": {
          "base_uri": "https://localhost:8080/"
        },
        "outputId": "de9dc1eb-7a57-4735-f685-297124ba3008"
      },
      "source": [
        "user_in = input('do you hate umbrellas? Please type Yes or No:')\n",
        "if user_input == 'Yes':\n",
        "      hates_umbrellas = True\n",
        "else: \n",
        "      hates_umbrellas = False\n",
        "\n",
        "is_raining = True\n",
        "if is_raining:\n",
        "        if hates_umbrellas:\n",
        "           print('grab your raincoat')\n",
        "        else:\n",
        "            print('grab your umbrella')"
      ],
      "execution_count": null,
      "outputs": [
        {
          "output_type": "stream",
          "name": "stdout",
          "text": [
            "do you hate umbrellas? Please type Yes or No:No\n",
            "grab your umbrella\n"
          ]
        }
      ]
    },
    {
      "cell_type": "code",
      "metadata": {
        "id": "O2m4hak_va-j"
      },
      "source": [
        "# Variables to keep track of responses that show preferences for each House\n",
        "# You do not need to change the code in this cell and will use these variables \n",
        "#for the rest of the lab\n",
        "# The name of each variable is a House and you will increment if the user\n",
        "# response shows preference for that House. \n",
        "gryffindor = 0\n",
        "hufflepuff = 0\n",
        "ravenclaw = 0\n",
        "slytherin = 0"
      ],
      "execution_count": null,
      "outputs": []
    },
    {
      "cell_type": "markdown",
      "metadata": {
        "id": "LCUmYgcomFGg"
      },
      "source": [
        "## First Question: \n",
        "\n"
      ]
    },
    {
      "cell_type": "code",
      "metadata": {
        "id": "5DUZ_9hPmxCi",
        "colab": {
          "base_uri": "https://localhost:8080/"
        },
        "outputId": "98292bd3-664f-49d8-f840-acbe610186e8"
      },
      "source": [
        "# Question 1\n",
        "print(\"After I've passed away, I want people to remember me as: \")\n",
        "print('  1) The Good')\n",
        "print('  2) The Great')\n",
        "print('  3) The Wise')\n",
        "print('  4) The Bold')\n",
        "\n"
      ],
      "execution_count": null,
      "outputs": [
        {
          "output_type": "stream",
          "name": "stdout",
          "text": [
            "After I've passed away, I want people to remember me as: \n",
            "  1) The Good\n",
            "  2) The Great\n",
            "  3) The Wise\n",
            "  4) The Bold\n"
          ]
        }
      ]
    },
    {
      "cell_type": "markdown",
      "metadata": {
        "id": "GbGRzW9SwaW7"
      },
      "source": [
        "In the following cell, ask the user to enter a corresponding number from above (e.g. \"Please enter your number choice\") and save the response from the user. Remember that when a user enters a response, Python treats it as a string until told to treat as number."
      ]
    },
    {
      "cell_type": "code",
      "metadata": {
        "id": "LLzzUjIGwZix",
        "colab": {
          "base_uri": "https://localhost:8080/"
        },
        "outputId": "d8f8a753-3e9e-438f-8010-002bfc7de14f"
      },
      "source": [
        "# Prompt user to enter number choice and save the number entered as a variable.\n",
        "\n",
        "user_in = eval(input(\"please enter your number choice: \"))\n"
      ],
      "execution_count": null,
      "outputs": [
        {
          "name": "stdout",
          "output_type": "stream",
          "text": [
            "please enter your number choice: 2\n"
          ]
        }
      ]
    },
    {
      "cell_type": "markdown",
      "metadata": {
        "id": "5yNGFER9xNjc"
      },
      "source": [
        "In the following cell, based on the response from the user, increment the appropriate House count. You will complete the conditional statement as specified in the comments. Right now it always prints good choice. (Why?)"
      ]
    },
    {
      "cell_type": "code",
      "metadata": {
        "id": "_lGcvdh5xw6C"
      },
      "source": [
        "# Change this if statement as specified in the comments\n",
        "# TODO: if the user's input is 1, increment hufflepuff\n",
        "if user_in == 1:\n",
        "    hufflepuff += 1\n",
        "elif user_in == 2: \n",
        "    slytherin += 1\n",
        "elif user_in == 3:\n",
        "    ravenclaw +=1\n",
        "elif user_in == 4:\n",
        "    gryffindor += 1\n",
        "\n",
        "\n",
        "# TODO: Change this code into an if else statement as described below\n",
        "# TODOL if the user's input is 1, increment hufflepuff\n",
        "# TODO: if the user's input is 2, increment slytherin\n",
        "# TODO: if the user's input is 3, increment ravenclaw\n",
        "# TODO: if the user's input is 4, increment gryffindor\n",
        "# Error handling: What happens if the user's input is not 1-4?\n",
        "# This else clause can be kept as is\n",
        "else:\n",
        "    print(\"Invalid choice\")"
      ],
      "execution_count": null,
      "outputs": []
    },
    {
      "cell_type": "markdown",
      "metadata": {
        "id": "4dODrt9WnO-v"
      },
      "source": [
        "## Second Question:"
      ]
    },
    {
      "cell_type": "code",
      "metadata": {
        "id": "ncutxJBKniMh",
        "colab": {
          "base_uri": "https://localhost:8080/"
        },
        "outputId": "432631f8-6f17-485b-b78f-961a4cf80e6c"
      },
      "source": [
        "print('Q2) Dawn or Dusk?')\n",
        "print('  1) Dawn')\n",
        "print('  2) Dusk')"
      ],
      "execution_count": null,
      "outputs": [
        {
          "output_type": "stream",
          "name": "stdout",
          "text": [
            "Q2) Dawn or Dusk?\n",
            "  1) Dawn\n",
            "  2) Dusk\n"
          ]
        }
      ]
    },
    {
      "cell_type": "code",
      "metadata": {
        "id": "6dSl_gTHzfBm",
        "colab": {
          "base_uri": "https://localhost:8080/"
        },
        "outputId": "33cb663e-dcd2-4816-82fc-a1d98dc59734"
      },
      "source": [
        "# Prompt user to enter number choice and save the number entered as a variable.\n",
        "user_in = eval(input(\"please enter your number choice: \"))"
      ],
      "execution_count": null,
      "outputs": [
        {
          "name": "stdout",
          "output_type": "stream",
          "text": [
            "please enter your number choice: 1\n"
          ]
        }
      ]
    },
    {
      "cell_type": "markdown",
      "metadata": {
        "id": "R3rSX1wpztIC"
      },
      "source": [
        "In the following cell, based on the response from the user, increment the appropriate House count. You will complete the conditional statement as specified in the comments. Right now it always prints better choice. (This is not a good way to write a conditional statement!)"
      ]
    },
    {
      "cell_type": "code",
      "metadata": {
        "id": "Xf2dy7QWz1iQ"
      },
      "source": [
        "#Change this statement as specified to increment the appropriate house based on \n",
        "#the user response\n",
        "if user_in == 1:\n",
        "      ravenclaw +=1\n",
        "      gryffindor +=1\n",
        "\n",
        "elif user_in == 2:\n",
        "      hufflepuff +=1\n",
        "      slytherin +=1\n",
        "\n",
        "# TODO: Change this code into an if else statement as described below\n",
        "# TODO: if the answer is 1, increment gryffindor and ravenclaw\n",
        "# TODO: if the answer is 2, increment hufflepuff and slytherin\n",
        "#The else clause can be left as is\n",
        "else:\n",
        "    print(\"Invalid choice\")"
      ],
      "execution_count": null,
      "outputs": []
    },
    {
      "cell_type": "markdown",
      "metadata": {
        "id": "E5-kf-6n05Fb"
      },
      "source": [
        "## Third Question:"
      ]
    },
    {
      "cell_type": "code",
      "metadata": {
        "id": "jDZDhGLQ08b0",
        "colab": {
          "base_uri": "https://localhost:8080/"
        },
        "outputId": "7be42498-077f-4069-af61-14c90b3b15a4"
      },
      "source": [
        "# Question 3\n",
        "print('Which kind of instrument most pleases your ear?')\n",
        "print('  1) The violin')\n",
        "print('  2) The trumpet')\n",
        "print('  3) The piano')\n",
        "print('  4) The drum')"
      ],
      "execution_count": null,
      "outputs": [
        {
          "output_type": "stream",
          "name": "stdout",
          "text": [
            "Which kind of instrument most pleases your ear?\n",
            "  1) The violin\n",
            "  2) The trumpet\n",
            "  3) The piano\n",
            "  4) The drum\n"
          ]
        }
      ]
    },
    {
      "cell_type": "code",
      "metadata": {
        "id": "yn1MVik70-X6",
        "colab": {
          "base_uri": "https://localhost:8080/"
        },
        "outputId": "c1ddaf8d-8901-4e02-c1d7-ebcd772bffa4"
      },
      "source": [
        "# Prompt user to enter number choice and save the number entered as a variable.\n",
        "user_in = eval(input(\"please enter your number choice: \"))"
      ],
      "execution_count": null,
      "outputs": [
        {
          "name": "stdout",
          "output_type": "stream",
          "text": [
            "please enter your number choice: 2\n"
          ]
        }
      ]
    },
    {
      "cell_type": "markdown",
      "metadata": {
        "id": "jrWA13-t1DII"
      },
      "source": [
        "In the following cell, based on the response from the user, increment the appropriate House count. You will complete the conditional statement as specified in the comments. Right now it always prints all sound wonderful."
      ]
    },
    {
      "cell_type": "code",
      "metadata": {
        "id": "XSZb06PT1S59"
      },
      "source": [
        "#Change this statement as specified to increment the appropriate house based on \n",
        "#the user response\n",
        "if user_in == 1:\n",
        "    slytherin += 1\n",
        "elif user_in == 2: \n",
        "    hufflepuff += 1\n",
        "elif user_in == 3:\n",
        "    ravenclaw += 1\n",
        "elif user_in == 4:\n",
        "    gryffindor += 1\n",
        "\n",
        "\n",
        "# TODO: Change this code into an if else statement as described below\n",
        "# TODO: if the answer is 1, increment slytherin\n",
        "# TODO: if the answer is 2, increment hufflepuff\n",
        "# TODO: if the answer is 3, increment ravenclaw\n",
        "# TODO: if the answer is 4, increment gryffindor\n",
        "# This else clause can remain unchanged\n",
        "else:\n",
        "  print(\"Invalid choice\")"
      ],
      "execution_count": null,
      "outputs": []
    },
    {
      "cell_type": "markdown",
      "metadata": {
        "id": "O8oF7J1OmCnQ"
      },
      "source": [
        "## Fourth Question:\n",
        "Here's where we will need to practice *nested conditional* statements. *Nested conditional* statements are *if* statements within *if* statements. Here we will ask all users the same question. However, based on their response within the *if* statement you will need to ask another question and then increment the appropriate House count. We will get this started and save the first response."
      ]
    },
    {
      "cell_type": "code",
      "metadata": {
        "colab": {
          "base_uri": "https://localhost:8080/"
        },
        "id": "GWIPxLAS2ZgN",
        "outputId": "9ae71c84-62c2-4e6f-c5fe-959a6ba5f91c"
      },
      "source": [
        "print('Do roads in nature tempt you the most?')\n",
        "print('  1) Yes')\n",
        "print('  2) No')\n",
        "\n",
        "choice= input('Please enter a number to answer:')\n",
        "select = int(choice)"
      ],
      "execution_count": null,
      "outputs": [
        {
          "output_type": "stream",
          "name": "stdout",
          "text": [
            "Do roads in nature tempt you the most?\n",
            "  1) Yes\n",
            "  2) No\n"
          ]
        }
      ]
    },
    {
      "cell_type": "markdown",
      "metadata": {
        "id": "tuPX7Li-2YGw"
      },
      "source": [
        "Now based on the user reply, you will have to ask the user the specific type of road and then use that to increment the appropriate house count. We started out this if statement in the following cell and you will need to complete it by added nested if statements and incrementing house counts as specified in comments."
      ]
    },
    {
      "cell_type": "code",
      "metadata": {
        "id": "mCuyN8JZqPhI",
        "colab": {
          "base_uri": "https://localhost:8080/"
        },
        "outputId": "dc4afcc8-31e2-4cdd-a648-fcc12893b750"
      },
      "source": [
        "if select == 1:\n",
        " print('do you prefer')\n",
        " print('3 )' 'The wide, sunny grassy lane')\n",
        " print('4 )' 'The twisting, leag-strewn path through woods')\n",
        " choice2= input('Please enter a number to answer:')\n",
        "    if choice == 3:\n",
        "      hufflepuff +=1\n",
        "    if choice == 4:\n",
        "      gryffindor +=1 \n",
        "\n",
        "   # TODO:\n",
        "   # Ask user if prefer\n",
        "   # 1) The wide, sunny grassy lane\n",
        "   # 2) The twisting, leaf-strewn path through woods\n",
        "   # Save response as integer\n",
        "   # If grassy lane, increment hufflepuff\n",
        "   # If woods, increment gryffindor\n",
        "   # No need to worry about error checking\n",
        "elif select == 2:\n",
        "print('do you prefer')\n",
        " print('5 )' 'The narrow, dark, lantern-lit alley')\n",
        " print('6 )' 'The cobbled street lined with ancient buildings')\n",
        " choice2= input('Please enter a number to answer:')\n",
        "    if choice == 5:\n",
        "      slytherin += 1\n",
        "    if choice == 6:\n",
        "      ravenclaw += 1\n",
        "\n",
        "\n",
        "\n",
        "   # TODO:\n",
        "   # Ask user if prefer\n",
        "   # 1) The narrow, dark, lantern-lit alley\n",
        "   # 2) The cobbled street lined with ancient buildings\n",
        "   # Save response as integer\n",
        "   # If alley, increment slytherin\n",
        "   # If cobbled street, increment ravenclaw\n",
        "   # No need to worry about error checking\n",
        "else:\n",
        "  print(\"Invalid choice\")\n"
      ],
      "execution_count": null,
      "outputs": [
        {
          "output_type": "stream",
          "name": "stdout",
          "text": [
            "Does nothing\n"
          ]
        }
      ]
    },
    {
      "cell_type": "markdown",
      "metadata": {
        "id": "OIWaikgzrzdR"
      },
      "source": [
        "## Challenge! Determining Appropriate House\n",
        "Now that we have tallied all the responses, can you figure out which house has the maximum number of responses? That will be the house for the user. If there is a tie, break the tie using alphabetical order: Gryffindor, Hufflepuff, Ravenclaw, Slytherin (in that order). We will get you started and show what needs to be printed, but you need to figure out what house has the maximum count using the count variables above.\n"
      ]
    },
    {
      "cell_type": "code",
      "metadata": {
        "id": "TM3VQOMVtiU4",
        "colab": {
          "base_uri": "https://localhost:8080/"
        },
        "outputId": "a38f264b-bf09-4573-d03e-54450603fb39"
      },
      "source": [
        "# Let's have a string to keep track of the house.\n",
        "house = 'None'\n",
        "#Let's keep track of the max_count\n",
        "max = 0\n",
        "\n",
        "# How can you find the House with the max count?\n",
        "# Remember that in the event of tie the user should be sorted into\n",
        "# the House in alphabetical order, so\n",
        "# Gryffindor before Hufflepuff before Ravenclaw before Slytherin\n",
        "# Could comparing house counts in that order help you find the max?\n",
        "\n",
        "# if gryffindor is more than the current max, update max and set house to 'Gryffindor'\n",
        "if gryffindor > max:\n",
        "   house = 'Gryffindor'\n",
        "   max = gryffindor\n",
        "elif hufflepuff > max:\n",
        "   house = 'Hufflepuff'\n",
        "   max = hufflepuff\n",
        "elif ravenclaw > max:\n",
        "    house = 'Ravenclaw'\n",
        "    max = ravenclaw\n",
        "elif slytherin > max:\n",
        "    house = 'Slytherin'\n",
        "    max = slytherin\n",
        "\n",
        "\n",
        "# The following code does not need to be changed.\n",
        "# If the user entered all invalid responses and no house has any counts\n",
        "# the user cannot be sorted into a house, so it is fine if house is \"None\"\n",
        "# at this point\n",
        "\n",
        "print('Congrats on being sorted into...' + house + '!')"
      ],
      "execution_count": null,
      "outputs": [
        {
          "output_type": "stream",
          "name": "stdout",
          "text": [
            "Congrats on being sorted into...None!\n"
          ]
        }
      ]
    },
    {
      "cell_type": "markdown",
      "metadata": {
        "id": "dKL0LYd-E4JB"
      },
      "source": [
        "### Reflections\n",
        "Add a text cell below to answer the following questions:\n",
        "1. What do you feel more confident about after completing this lab?\n",
        "I feel more confident in changing the max (such as in the last portion determining the houses and the other user input if/else statements.)\n",
        "\n",
        "2. What do you feel you can use more help with after completing this lab?\n",
        "Probably understanding how to do if/else statements within other if/else satements.\n",
        "\n",
        "3. Do you have any constructive suggestions on how we can help you or improve this lab?\n",
        "\n",
        "Being told you don't have to retype elif ... within the second question and being able to just type:\n",
        "\n",
        "elif user_in == 2:\n",
        "      hufflepuff +=1\n",
        "      slytherin +=1\n",
        "\n",
        "rather than:\n",
        "elif user_in == 2:\n",
        "      hufflepuff +=1\n",
        "elif user_in == 2:\n",
        "      slytherin +=1\n"
      ]
    },
    {
      "cell_type": "markdown",
      "metadata": {
        "id": "gB1aHDpyFYey"
      },
      "source": [
        "### Save your work to GitHub\n",
        "Please save this notebook to your lab repository."
      ]
    }
  ]
}